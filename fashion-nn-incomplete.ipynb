{
 "cells": [
  {
   "cell_type": "markdown",
   "metadata": {},
   "source": [
    "# Coding Portion: Fashion Item Classification\n",
    "\n",
    "* Dataset used: **Fashion MNIST** (28 x 28 grayscale images of fashion items)\n",
    "* Dataset size: 60,000 training samples, 10,000 test samples\n",
    "* Dataset source: https://github.com/zalandoresearch/fashion-mnist\n",
    "\n",
    "#### Classification Labels:\n",
    "Label | Description\n",
    ":--- | ---\n",
    "0 | T-shirt/top\n",
    "1 | Trouser\n",
    "2 | Pullover\n",
    "3 | Dress\n",
    "4 | Coat\n",
    "5 | Sandal\n",
    "6 | Shirt\n",
    "7 | Sneaker\n",
    "8 | Bag\n",
    "9 | Ankle boot"
   ]
  },
  {
   "cell_type": "markdown",
   "metadata": {},
   "source": [
    "### Step 1: Load in the Data"
   ]
  },
  {
   "cell_type": "code",
   "execution_count": 25,
   "metadata": {},
   "outputs": [],
   "source": [
    "# Import Fashion-MNIST dataset from 'fashion' folder\n",
    "\n",
    "from fashion import mnist_reader\n",
    "X_train, y_train = mnist_reader.load_mnist('fashion', kind='train')\n",
    "X_test, y_test = mnist_reader.load_mnist('fashion', kind='t10k')\n",
    "import tensorflow"
   ]
  },
  {
   "cell_type": "code",
   "execution_count": 26,
   "metadata": {},
   "outputs": [
    {
     "name": "stdout",
     "output_type": "stream",
     "text": [
      "Inputs shape is (60000, 784)\n",
      "Input type is <class 'numpy.ndarray'>\n",
      "Labels:\n",
      "[9 0 0 ... 3 0 5]\n",
      "Labels shape is(60000,)\n",
      "Labels type is <class 'numpy.ndarray'>\n"
     ]
    }
   ],
   "source": [
    "# Data exploration\n",
    "\n",
    "print(\"Inputs shape is \" + str(X_train.shape)) # 60,000 flattened image vectors (784 pixels long)\n",
    "print(\"Input type is \" + str(type(X_train)))\n",
    "print(\"Labels:\")\n",
    "print(y_train)\n",
    "print(\"Labels shape is\" + str(y_train.shape)) # 60,000 labels\n",
    "print(\"Labels type is \" + str(type(y_train)))"
   ]
  },
  {
   "cell_type": "code",
   "execution_count": 27,
   "metadata": {},
   "outputs": [],
   "source": [
    "# Convert numerical label to item description\n",
    "\n",
    "def to_description(label):\n",
    "    if label == 0: return \"T-shirt/top\"\n",
    "    elif label == 1: return \"Trouser\"\n",
    "    elif label == 2: return \"Pullover\"\n",
    "    elif label == 3: return \"Dress\"\n",
    "    elif label == 4: return \"Coat\"\n",
    "    elif label == 5: return \"Sandal\"\n",
    "    elif label == 6: return \"Shirt\"\n",
    "    elif label == 7: return \"Sneaker\"\n",
    "    elif label == 8: return \"Bag\"\n",
    "    elif label == 9: return \"Ankle boot\"\n",
    "    else: return \"Label not found\""
   ]
  },
  {
   "cell_type": "code",
   "execution_count": 28,
   "metadata": {},
   "outputs": [
    {
     "name": "stdout",
     "output_type": "stream",
     "text": [
      "Label:  9\n",
      "Description:  Ankle boot\n"
     ]
    },
    {
     "data": {
      "image/png": "[encoded data removed]",
      "text/plain": [
       "<Figure size 432x288 with 1 Axes>"
      ]
     },
     "metadata": {
      "needs_background": "light"
     },
     "output_type": "display_data"
    }
   ],
   "source": [
    "# Visualize the training examples\n",
    "\n",
    "import matplotlib.pyplot as plt\n",
    "import numpy as np\n",
    "\n",
    "def visualize_sample(sample_num):\n",
    "    flattened_vector = X_train[sample_num] # retrieve flattened vector\n",
    "    image_2d = np.reshape(flattened_vector, (28, 28)) # reshape to 28 x 28 grayscale image array\n",
    "    plt.imshow(image_2d, cmap = plt.get_cmap('gray')) # feed image into matplotlib\n",
    "    print(\"Label: \", y_train[sample_num]) # print actual label\n",
    "    print(\"Description: \", to_description(y_train[sample_num])) # print description\n",
    "    plt.show()\n",
    "    \n",
    "    \n",
    "visualize_sample(0)"
   ]
  },
  {
   "cell_type": "markdown",
   "metadata": {},
   "source": [
    "### Step 2: Data Pre-Processing\n",
    "1. Normalize the feature vectors/pixel values\n",
    "2. Categorize the outputs"
   ]
  },
  {
   "cell_type": "code",
   "execution_count": 29,
   "metadata": {},
   "outputs": [],
   "source": [
    "# Normalize the X_train and X_test dataset pixel values to between 0-1\n",
    "\n",
    "# TODO: fill this in\n",
    "X_train = X_train / 255.0\n",
    "X_test = X_test / 255.0\n",
    "    "
   ]
  },
  {
   "cell_type": "code",
   "execution_count": 30,
   "metadata": {},
   "outputs": [],
   "source": [
    "import keras"
   ]
  },
  {
   "cell_type": "code",
   "execution_count": 31,
   "metadata": {
    "scrolled": false
   },
   "outputs": [
    {
     "name": "stdout",
     "output_type": "stream",
     "text": [
      "[[0. 0. 0. 0. 0. 0. 0. 0. 0. 1.]\n",
      " [0. 0. 1. 0. 0. 0. 0. 0. 0. 0.]\n",
      " [0. 1. 0. 0. 0. 0. 0. 0. 0. 0.]\n",
      " [0. 1. 0. 0. 0. 0. 0. 0. 0. 0.]\n",
      " [0. 0. 0. 0. 0. 0. 1. 0. 0. 0.]]\n"
     ]
    }
   ],
   "source": [
    "import keras\n",
    "\n",
    "# TODO: Use Keras to categorize the outputs (\"one-hot\" vectors)\n",
    "    # Use variable names: y_train_categorical, y_test_categorical\n",
    "    # hint: use the to_categorical() keras function to do this for you\n",
    "y_train_categorical = keras.utils.to_categorical(y_train, num_classes = 10)\n",
    "y_test_categorical = keras.utils.to_categorical(y_test, num_classes = 10)\n",
    "# let's see result of categorizing the outputs\n",
    "print(y_test_categorical[:5])"
   ]
  },
  {
   "cell_type": "markdown",
   "metadata": {},
   "source": [
    "### Step 3: Create and Compile Neural Network Model"
   ]
  },
  {
   "cell_type": "code",
   "execution_count": 32,
   "metadata": {},
   "outputs": [],
   "source": [
    "from keras.layers import Dense, Activation\n",
    "from keras.models import Sequential\n",
    "\n",
    "model = Sequential()\n",
    "\n",
    "# TODO: fill this in\n",
    "# Feel free to experiment with different number of layers, number of neurons, activation functions, etc.\n",
    "    # Activation functions: https://keras.io/activations/\n",
    "    # Declaring Keras layers: https://keras.io/layers/core/\n",
    "\n",
    "    \n",
    "### Add 1st layer here. Remember that the input_dimension should match up with the input vector dimension!\n",
    "model.add(Dense(units = 500, input_dim = 784, activation = 'relu'))\n",
    "### Add 2nd layer here.\n",
    "model.add(Dense(units = 250, activation = 'relu'))\n",
    "# Add final layer here. Make sure the last layer matches up the output vector dimension\n",
    "    # Hint: use softmax again to output classification probabilities\n",
    "model.add(Dense(units = 10, activation = 'softmax'))"
   ]
  },
  {
   "cell_type": "code",
   "execution_count": 33,
   "metadata": {},
   "outputs": [],
   "source": [
    "# TODO: Compile model\n",
    "    # Loss: categorical cross-entropy\n",
    "    # Optimizer: stochastic gradient descent\n",
    "        # Or: experiment with other optimizers? https://keras.io/optimizers/\n",
    "    # Metrics: accuracy\n",
    "model.compile(loss='categorical_crossentropy', optimizer='sgd', metrics=['accuracy'])    \n",
    "\n",
    "        "
   ]
  },
  {
   "cell_type": "code",
   "execution_count": null,
   "metadata": {
    "scrolled": true
   },
   "outputs": [],
   "source": [
    "model.summary()"
   ]
  },
  {
   "cell_type": "code",
   "execution_count": null,
   "metadata": {},
   "outputs": [],
   "source": [
    "# Import relevant libraries\n",
    "from keras_tqdm import TQDMNotebookCallback # TQDM: progress bars\n",
    "from keras.callbacks import TensorBoard # Tensorboard: training plots\n",
    "    \n",
    "# Clear any existing Tensorboard logs\n",
    "import shutil\n",
    "shutil.rmtree('./logs', ignore_errors=True)\n",
    "\n",
    "# Set up callback links to refer back to during training\n",
    "tensorboard = TensorBoard()\n",
    "callbacks_list = [TQDMNotebookCallback(), tensorboard]"
   ]
  },
  {
   "cell_type": "code",
   "execution_count": null,
   "metadata": {},
   "outputs": [],
   "source": [
    "# TODO: Fit model to training data\n",
    "    # Reserve some fraction of training data as validation data\n",
    "    # Pick number of epochs\n",
    "    # Pick a batch_size\n",
    "    # Pass in relevant callbacks_list from above\n",
    "    \n",
    "model.fit(X_train, y_train_categorical, epochs=10, batch_size=16)    \n",
    "    \n",
    "    "
   ]
  },
  {
   "cell_type": "markdown",
   "metadata": {},
   "source": [
    "### Step 4: Evaluate the Model"
   ]
  },
  {
   "cell_type": "code",
   "execution_count": null,
   "metadata": {},
   "outputs": [],
   "source": [
    "# TODO: Evaluate model on test data\n",
    "\n",
    "# Use model.evaluate()\n",
    "# Also: open up the training logs in Tensorboard to check validation_loss for overfitting\n",
    "loss_and_metrics = model.evaluate(X_test, y_test_categorical, batch_size=128)\n",
    "\n",
    "print(loss_and_metrics)"
   ]
  },
  {
   "cell_type": "code",
   "execution_count": null,
   "metadata": {},
   "outputs": [],
   "source": [
    "# Final predictions testing\n",
    "\n",
    "import numpy as np\n",
    "\n",
    "# Compare actual class to predicted class\n",
    "def visualize_test_sample(test_sample_num):\n",
    "    \n",
    "    # Display actual image & label\n",
    "    flattened_vector = X_test[test_sample_num] # retrieve flattened vector\n",
    "    image_2d = np.reshape(flattened_vector, (28, 28)) # reshape to 28 x 28 grayscale image array\n",
    "    plt.imshow(image_2d, cmap = plt.get_cmap('gray')) # feed image into matplotlib\n",
    "    print(\"Actual Label: \", y_test[test_sample_num]) # print actual label\n",
    "    print(\"Actual Description: \", to_description(y_test[test_sample_num])) # print description\n",
    "    plt.show()\n",
    "    \n",
    "    # Print predicted label\n",
    "    test_sample = np.expand_dims(X_test[test_sample_num], axis=0) # pick out a one-sample \"batch\" to feed into model\n",
    "    predicted_scores = model.predict(test_sample) # outputted probabilities vector\n",
    "    print(\"Outputted scores: \", predicted_scores) # print predicted scores\n",
    "\n",
    "    predicted_class = np.argmax(predicted_scores) # pick the class with highest probability --> final prediction\n",
    "    print(\"Predicted Label: \", predicted_class) # print predicted classification\n",
    "    print(\"Predicted Description: \", to_description(predicted_class)) # print predicted label description"
   ]
  },
  {
   "cell_type": "code",
   "execution_count": null,
   "metadata": {},
   "outputs": [],
   "source": [
    "visualize_test_sample(4)"
   ]
  },
  {
   "cell_type": "code",
   "execution_count": null,
   "metadata": {},
   "outputs": [],
   "source": []
  }
 ],
 "metadata": {
  "kernelspec": {
   "display_name": "Python [conda env:caispp]",
   "language": "python",
   "name": "conda-env-caispp-py"
  },
  "language_info": {
   "codemirror_mode": {
    "name": "ipython",
    "version": 3
   },
   "file_extension": ".py",
   "mimetype": "text/x-python",
   "name": "python",
   "nbconvert_exporter": "python",
   "pygments_lexer": "ipython3",
   "version": "3.5.6"
  }
 },
 "nbformat": 4,
 "nbformat_minor": 2
}
